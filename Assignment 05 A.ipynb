{
 "cells": [
  {
   "cell_type": "code",
   "execution_count": 3,
   "id": "c7426075",
   "metadata": {},
   "outputs": [
    {
     "name": "stdout",
     "output_type": "stream",
     "text": [
      "(2, 4)\n",
      "(1,)\n",
      "[[ 3  9  6 21]\n",
      " [24  6  9  6]]\n",
      "The final dimension becomes:  (2, 4)\n"
     ]
    }
   ],
   "source": [
    "#Broadcasting:\n",
    "#First case:\n",
    "import numpy as np\n",
    "X = [ [1, 3, 2, 7], [8, 2, 3, 2] ]\n",
    "X = np.array(X)\n",
    "print(X.shape)\n",
    "\n",
    "Y = [3]\n",
    "Y = np.array(Y)\n",
    "print(Y.shape)\n",
    "\n",
    "Z = X*Y\n",
    "print(Z)\n",
    "print(\"The final dimension becomes: \", Z.shape)"
   ]
  },
  {
   "cell_type": "code",
   "execution_count": 4,
   "id": "9616a087",
   "metadata": {},
   "outputs": [
    {
     "name": "stdout",
     "output_type": "stream",
     "text": [
      "(2, 4)\n",
      "(4,)\n",
      "[[ 2  9  8 35]\n",
      " [16  6 12 10]]\n",
      "The final dimension becomes:  (2, 4)\n"
     ]
    }
   ],
   "source": [
    "#Broadcasting:\n",
    "#2nd case:\n",
    "import numpy as np\n",
    "X = [ [1, 3, 2, 7], [8, 2, 3, 2] ]\n",
    "X = np.array(X)\n",
    "print(X.shape)\n",
    "\n",
    "Y = [2,3,4,5]\n",
    "Y = np.array(Y)\n",
    "print(Y.shape)\n",
    "\n",
    "Z = X*Y\n",
    "print(Z)\n",
    "print(\"The final dimension becomes: \", Z.shape)"
   ]
  },
  {
   "cell_type": "code",
   "execution_count": 7,
   "id": "1b5ca5ee",
   "metadata": {},
   "outputs": [
    {
     "name": "stdout",
     "output_type": "stream",
     "text": [
      "(5, 3, 2)\n",
      "(5, 1, 2)\n",
      "[[[ 7 32]\n",
      "  [ 6  8]\n",
      "  [ 7  4]]\n",
      "\n",
      " [[ 9 35]\n",
      "  [36 20]\n",
      "  [18 35]]\n",
      "\n",
      " [[21 45]\n",
      "  [28  9]\n",
      "  [63 27]]\n",
      "\n",
      " [[25 49]\n",
      "  [60 49]\n",
      "  [45 35]]\n",
      "\n",
      " [[49 63]\n",
      "  [ 7 14]\n",
      "  [42 28]]]\n",
      "The final dimension becomes:  (5, 3, 2)\n"
     ]
    }
   ],
   "source": [
    "#Third case:\n",
    "X = [ [[7, 8], [6, 2], [7, 1]],\n",
    "     [[3, 7], [12, 4], [6, 7]],\n",
    "    [[3, 5], [4, 1], [9, 3]],\n",
    "    [[5, 7], [12, 7], [9, 5]],\n",
    "    [[7, 9], [1, 2], [6,4]]]\n",
    "\n",
    "X = np.array(X)\n",
    "print(X.shape)\n",
    "\n",
    "Y = [ [[1, 4]],\n",
    "     [[3, 5]],\n",
    "    [[7, 9]],\n",
    "    [[5, 7]],\n",
    "    [[7, 7]]]\n",
    "Y = np.array(Y)\n",
    "print(Y.shape)\n",
    "\n",
    "Z = X*Y\n",
    "print(Z)\n",
    "print(\"The final dimension becomes: \", Z.shape)"
   ]
  },
  {
   "cell_type": "code",
   "execution_count": 15,
   "id": "c07cceff",
   "metadata": {},
   "outputs": [
    {
     "name": "stdout",
     "output_type": "stream",
     "text": [
      "(3, 3, 5)\n",
      "(3, 5)\n",
      "[[[ 1  9 25 49 64]\n",
      "  [24 25 42 18  2]\n",
      "  [21  5 42 36  6]]\n",
      "\n",
      " [[ 3 15 35 63 16]\n",
      "  [36 20  7 18 16]\n",
      "  [18 35 56 81  1]]\n",
      "\n",
      " [[ 3 15 35 63  8]\n",
      "  [36 20  7 18  8]\n",
      "  [18 35 56 81  3]]]\n",
      "The final dimension becomes:  (3, 3, 5)\n"
     ]
    }
   ],
   "source": [
    "#Fourth case:\n",
    "X = [ [[1, 3, 5, 7, 8], [8, 5, 6, 2, 1], [7, 1, 6, 4, 6]],\n",
    "     [[3, 5, 7, 9, 2], [12, 4, 1, 2, 8], [6, 7, 8, 9, 1]],\n",
    "    [[3, 5, 7, 9, 1], [12, 4, 1, 2, 4], [6, 7, 8, 9, 3]]]\n",
    "\n",
    "X = np.array(X)\n",
    "print(X.shape)\n",
    "\n",
    "Y = [[1, 3, 5, 7, 8], [3, 5, 7, 9, 2], [3, 5, 7, 9, 1]]\n",
    "Y = np.array(Y)\n",
    "print(Y.shape)\n",
    "\n",
    "Z = X*Y\n",
    "print(Z)\n",
    "print(\"The final dimension becomes: \", Z.shape)"
   ]
  },
  {
   "cell_type": "code",
   "execution_count": 13,
   "id": "ecd12b1e",
   "metadata": {},
   "outputs": [
    {
     "name": "stdout",
     "output_type": "stream",
     "text": [
      "The shape of A:  (4, 3, 5)\n",
      "The shape of B:  (3, 1)\n",
      "[[[ 1  3  5  7  8]\n",
      "  [16 10 12  4  2]\n",
      "  [21  3 18 12 18]]\n",
      "\n",
      " [[ 3  5  7  9  2]\n",
      "  [24  8  2  4 16]\n",
      "  [18 21 24 27  3]]\n",
      "\n",
      " [[ 3  5  7  9  1]\n",
      "  [24  8  2  4  8]\n",
      "  [18 21 24 27  9]]\n",
      "\n",
      " [[ 3  5  7  9  4]\n",
      "  [24  8  2  4 14]\n",
      "  [18 21 24 27 15]]]\n",
      "The final shape after broadcasting:  (4, 3, 5)\n"
     ]
    }
   ],
   "source": [
    "#Fifth case(A 3d(5x3x5) and a 2d(3x1) array broadcasting):\n",
    "A = [ [[1, 3, 5, 7, 8], [8, 5, 6, 2, 1], [7, 1, 6, 4, 6]],\n",
    "     [[3, 5, 7, 9, 2], [12, 4, 1, 2, 8], [6, 7, 8, 9, 1]],\n",
    "    [[3, 5, 7, 9, 1], [12, 4, 1, 2, 4], [6, 7, 8, 9, 3]],\n",
    "    [[3, 5, 7, 9, 4], [12, 4, 1, 2, 7], [6, 7, 8, 9, 5]]]\n",
    "import numpy as np\n",
    "A = np.array(A)\n",
    "print(\"The shape of A: \",A.shape)\n",
    "\n",
    "B = [[1], [2], [3]]\n",
    "B = np.array(B)\n",
    "B = B\n",
    "print(\"The shape of B: \", B.shape)\n",
    "\n",
    "C = A*B\n",
    "print(C)\n",
    "print(\"The final shape after broadcasting: \", C.shape)"
   ]
  },
  {
   "cell_type": "code",
   "execution_count": 49,
   "id": "7528a32c",
   "metadata": {},
   "outputs": [
    {
     "name": "stdout",
     "output_type": "stream",
     "text": [
      "The shape of A:  (5, 4)\n",
      "The shape of B:  (4,)\n",
      "[[ 3 12 25 42]\n",
      " [24 20 30 12]\n",
      " [21  4 30 24]\n",
      " [ 9 20 35 54]\n",
      " [36 16  5 12]]\n",
      "The final shape after broadcasting:  (5, 4)\n"
     ]
    }
   ],
   "source": [
    "#Failure cases(try 1: 2d and 2d array):\n",
    "A = [ [1, 3, 5, 7], [8, 5, 6, 2], [7, 1, 6, 4], [3, 5, 7, 9], [12, 4, 1, 2] ]\n",
    "import numpy as np\n",
    "A = np.array(A)\n",
    "print(\"The shape of A: \", A.shape)\n",
    "\n",
    "B = [3, 4, 5, 6]\n",
    "B = np.array(B)\n",
    "print(\"The shape of B: \", B.shape)\n",
    "\n",
    "C = A*B\n",
    "print(C)\n",
    "print(\"The final shape after broadcasting: \", C.shape)"
   ]
  },
  {
   "cell_type": "code",
   "execution_count": 19,
   "id": "76c8cef9",
   "metadata": {},
   "outputs": [
    {
     "name": "stdout",
     "output_type": "stream",
     "text": [
      "(2, 3, 5)\n",
      "(1, 3)\n",
      "[[[ 1  3  5  7  8]\n",
      "  [16 10 12  4  2]\n",
      "  [21  3 18 12 18]]\n",
      "\n",
      " [[ 3  5  7  9  2]\n",
      "  [24  8  2  4 16]\n",
      "  [18 21 24 27  3]]]\n",
      "The final dimension becomes:  (2, 3, 5)\n"
     ]
    }
   ],
   "source": [
    "#Failure case:\n",
    "X = [ [[1, 3, 5, 7, 8], [8, 5, 6, 2, 1], [7, 1, 6, 4, 6]],\n",
    "     [[3, 5, 7, 9, 2], [12, 4, 1, 2, 8], [6, 7, 8, 9, 1]]]\n",
    "X = np.array(X)\n",
    "print(X.shape)\n",
    "\n",
    "Y = [[1, 2, 3]]\n",
    "Y = np.array(Y)\n",
    "print(Y.shape)\n",
    "\n",
    "Z = X*Y.T\n",
    "print(Z)\n",
    "print(\"The final dimension becomes: \", Z.shape)"
   ]
  },
  {
   "cell_type": "code",
   "execution_count": 57,
   "id": "310b34eb",
   "metadata": {},
   "outputs": [
    {
     "name": "stdout",
     "output_type": "stream",
     "text": [
      "The shape of A:  (5, 1)\n",
      "The shape of B:  (4,)\n",
      "[[ 3  4  5  6]\n",
      " [24 32 40 48]\n",
      " [21 28 35 42]\n",
      " [ 9 12 15 18]\n",
      " [36 48 60 72]]\n",
      "The final shape after broadcasting:  (5, 4)\n"
     ]
    }
   ],
   "source": [
    "#Second case(A 2d(5x4) and a 1d(4x1) array broadcasting):\n",
    "A = [ [1], [8], [7], [3], [12] ]\n",
    "import numpy as np\n",
    "A = np.array(A)\n",
    "print(\"The shape of A: \", A.shape)\n",
    "\n",
    "B = [3, 4, 5, 6]\n",
    "B = np.array(B)\n",
    "B = B\n",
    "print(\"The shape of B: \", B.shape)\n",
    "\n",
    "C = A*B\n",
    "print(C)\n",
    "print(\"The final shape after broadcasting: \", C.shape)"
   ]
  },
  {
   "cell_type": "code",
   "execution_count": null,
   "id": "a35c2136",
   "metadata": {},
   "outputs": [],
   "source": []
  }
 ],
 "metadata": {
  "kernelspec": {
   "display_name": "Python 3 (ipykernel)",
   "language": "python",
   "name": "python3"
  },
  "language_info": {
   "codemirror_mode": {
    "name": "ipython",
    "version": 3
   },
   "file_extension": ".py",
   "mimetype": "text/x-python",
   "name": "python",
   "nbconvert_exporter": "python",
   "pygments_lexer": "ipython3",
   "version": "3.9.13"
  }
 },
 "nbformat": 4,
 "nbformat_minor": 5
}
